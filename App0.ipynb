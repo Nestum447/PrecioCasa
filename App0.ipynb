{
 "cells": [
  {
   "cell_type": "code",
   "execution_count": 2,
   "metadata": {},
   "outputs": [],
   "source": [
    "\n",
    "import numpy as np\n",
    "import pandas as pd\n",
    "from sklearn.linear_model import LinearRegression\n",
    "import pickle\n",
    "\n",
    "# Datos de entrenamiento\n",
    "data = {\n",
    "    'tamaño': [1500, 1600, 1700, 1800, 1900, 2000],\n",
    "    'habitaciones': [3, 3, 3, 4, 4, 4],\n",
    "    'edad': [10, 15, 20, 25, 30, 35],\n",
    "    'precio': [300000, 320000, 340000, 360000, 380000, 400000]\n",
    "}\n",
    "\n",
    "df = pd.DataFrame(data)\n",
    "X = df[['tamaño', 'habitaciones', 'edad']]\n",
    "y = df['precio']\n",
    "\n",
    "# Entrenar el modelo\n",
    "model = LinearRegression()\n",
    "model.fit(X, y)\n",
    "\n",
    "# Guardar el modelo entrenado en un archivo\n",
    "with open('modelo_precio_casas.pkl', 'wb') as file:\n",
    "    pickle.dump(model, file)\n"
   ]
  }
 ],
 "metadata": {
  "kernelspec": {
   "display_name": "Python 3",
   "language": "python",
   "name": "python3"
  },
  "language_info": {
   "codemirror_mode": {
    "name": "ipython",
    "version": 3
   },
   "file_extension": ".py",
   "mimetype": "text/x-python",
   "name": "python",
   "nbconvert_exporter": "python",
   "pygments_lexer": "ipython3",
   "version": "3.12.2"
  }
 },
 "nbformat": 4,
 "nbformat_minor": 2
}
